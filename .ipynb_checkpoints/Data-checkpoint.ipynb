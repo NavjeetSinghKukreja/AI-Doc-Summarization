{
 "cells": [
  {
   "cell_type": "code",
   "execution_count": 1,
   "id": "1075704f-ba1f-4ea4-91ef-71608b20dd71",
   "metadata": {},
   "outputs": [
    {
     "name": "stdout",
     "output_type": "stream",
     "text": [
      "count      424.000000\n",
      "mean      2803.912736\n",
      "std       2876.872521\n",
      "min        200.000000\n",
      "25%       1716.250000\n",
      "50%       2010.000000\n",
      "75%       2693.750000\n",
      "max      32131.000000\n",
      "Name: Content Length, dtype: float64\n",
      "                                               Title  \\\n",
      "0  Powell’s Fed Appears Headed for Another Collis...   \n",
      "1  A Ride-Hailing Start-Up in Washington Tries to...   \n",
      "2  Amazon Disregarded Internal Warnings on Injuri...   \n",
      "3  Automakers Thrived in the Pandemic. Many Are N...   \n",
      "4  An Epidemic of Vicious School Brawls, Fueled b...   \n",
      "\n",
      "                                                 URL  \\\n",
      "0  https://www.nytimes.com/2024/12/16/business/ec...   \n",
      "1  https://www.nytimes.com/2024/12/16/technology/...   \n",
      "2  https://www.nytimes.com/2024/12/16/business/ec...   \n",
      "3  https://www.nytimes.com/2024/12/15/business/au...   \n",
      "4  https://www.nytimes.com/2024/12/15/technology/...   \n",
      "\n",
      "                                             Content  Content Length  \n",
      "0  trumptransition advertisement rates may not co...            2280  \n",
      "1  a company called empower is trying to take on ...            1940  \n",
      "2   by a staff report by the senate labor committ...            2038  \n",
      "3   by changing technology, political turmoil and...            1517  \n",
      "4  undefined this is an increasingly familiar sce...            6684  \n"
     ]
    }
   ],
   "source": [
    "import pandas as pd\n",
    "\n",
    "# Load the dataset\n",
    "df = pd.read_csv(\"bbc_news_articles.csv\")\n",
    "\n",
    "# Remove duplicate rows based on Content\n",
    "df = df.drop_duplicates(subset=[\"Content\"])\n",
    "\n",
    "# Check for missing values and drop rows where Content or Title is missing\n",
    "df = df.dropna(subset=[\"Content\", \"Title\"])\n",
    "\n",
    "# Optional: If you're using 'bert-base-uncased', lowercase the text\n",
    "df[\"Content\"] = df[\"Content\"].str.lower()\n",
    "\n",
    "# Save the cleaned dataset to CSV\n",
    "df.to_csv(\"processed_news_articles.csv\", index=False)\n",
    "\n",
    "# Content length statistics\n",
    "df[\"Content Length\"] = df[\"Content\"].apply(len)\n",
    "print(df[\"Content Length\"].describe())\n",
    "\n",
    "# Display the first few rows\n",
    "print(df.head())\n"
   ]
  },
  {
   "cell_type": "markdown",
   "id": "7ac2dbca-ea73-4bfa-aeb9-a263e0b851f1",
   "metadata": {},
   "source": [
    "# Bertsum extractive summarization"
   ]
  },
  {
   "cell_type": "code",
   "execution_count": 2,
   "id": "55224a80-c419-41fc-858e-8710d904e39a",
   "metadata": {},
   "outputs": [
    {
     "name": "stderr",
     "output_type": "stream",
     "text": [
      "C:\\Users\\navje\\myenv\\Lib\\site-packages\\transformers\\models\\bert\\modeling_bert.py:440: UserWarning: 1Torch was not compiled with flash attention. (Triggered internally at ..\\aten\\src\\ATen\\native\\transformers\\cuda\\sdp_utils.cpp:455.)\n",
      "  attn_output = torch.nn.functional.scaled_dot_product_attention(\n"
     ]
    },
    {
     "name": "stdout",
     "output_type": "stream",
     "text": [
      "                                               Title  \\\n",
      "0  Powell’s Fed Appears Headed for Another Collis...   \n",
      "1  A Ride-Hailing Start-Up in Washington Tries to...   \n",
      "2  Amazon Disregarded Internal Warnings on Injuri...   \n",
      "3  Automakers Thrived in the Pandemic. Many Are N...   \n",
      "4  An Epidemic of Vicious School Brawls, Fueled b...   \n",
      "\n",
      "                                             Content  \\\n",
      "0  trumptransition advertisement rates may not co...   \n",
      "1  a company called empower is trying to take on ...   \n",
      "2   by a staff report by the senate labor committ...   \n",
      "3   by changing technology, political turmoil and...   \n",
      "4  undefined this is an increasingly familiar sce...   \n",
      "\n",
      "                                             Summary  \n",
      "0  trumptransition advertisement rates may not co...  \n",
      "1  a company called empower is trying to take on ...  \n",
      "2  by a staff report by the senate labor committe...  \n",
      "3  by changing technology, political turmoil and ...  \n",
      "4  undefined this is an increasingly familiar sce...  \n"
     ]
    }
   ],
   "source": [
    "from summarizer import Summarizer\n",
    "\n",
    "# Initialize the BERT summarizer model\n",
    "model = Summarizer()\n",
    "\n",
    "# Function to generate summaries for a given text\n",
    "def generate_summary(text, ratio=0.2):\n",
    "    return model(text, ratio=ratio)\n",
    "\n",
    "# Apply summarization to each article's content and store the results in a new column 'Summary'\n",
    "df[\"Summary\"] = df[\"Content\"].apply(lambda x: generate_summary(x, ratio=0.2))\n",
    "\n",
    "# Save the summarized dataset to a new CSV file\n",
    "df.to_csv(\"summarized_news_articles.csv\", index=False)\n",
    "\n",
    "# Display the first few rows with the summaries\n",
    "print(df[[\"Title\", \"Content\", \"Summary\"]].head())\n"
   ]
  },
  {
   "cell_type": "code",
   "execution_count": 3,
   "id": "32b369da-4b35-42d6-b032-ba9be578dd0f",
   "metadata": {
    "scrolled": true
   },
   "outputs": [
    {
     "name": "stdout",
     "output_type": "stream",
     "text": [
      "Model Performance\n",
      "The table below displays the model's performance for different seeds.\n",
      "Rouge-1 ↑\tRouge-2 ↑\tRouge-L ↑\n",
      "0.47\t0.39\t0.47\n"
     ]
    }
   ],
   "source": [
    "from rouge import Rouge\n",
    "import pandas as pd\n",
    "\n",
    "# Initialize the ROUGE scorer\n",
    "rouge = Rouge()\n",
    "\n",
    "# Function to calculate ROUGE scores\n",
    "def calculate_rouge_scores(original, summary):\n",
    "    if not summary.strip():  # Skip empty summaries\n",
    "        return None\n",
    "    \n",
    "    scores = rouge.get_scores(summary, original)[0]\n",
    "    return {\n",
    "        \"ROUGE-1_F1\": scores[\"rouge-1\"][\"f\"],\n",
    "        \"ROUGE-2_F1\": scores[\"rouge-2\"][\"f\"],\n",
    "        \"ROUGE-L_F1\": scores[\"rouge-l\"][\"f\"],\n",
    "    }\n",
    "\n",
    "# Apply the ROUGE scoring function to each row (skip empty summaries)\n",
    "rouge_scores = df.apply(lambda row: calculate_rouge_scores(row[\"Content\"], row[\"Summary\"]), axis=1)\n",
    "\n",
    "# Filter out rows where the ROUGE score is None (due to empty summaries)\n",
    "rouge_scores = rouge_scores.dropna()\n",
    "\n",
    "# Convert the list of ROUGE scores dictionaries into a DataFrame\n",
    "rouge_df = pd.DataFrame(list(rouge_scores))\n",
    "\n",
    "# Calculate the average ROUGE scores across all articles\n",
    "average_rouge = rouge_df.mean()\n",
    "\n",
    "# Print the average ROUGE scores in the desired format\n",
    "print(\"Model Performance\")\n",
    "print(\"The table below displays the model's performance for different seeds.\")\n",
    "print(\"Rouge-1 ↑\\tRouge-2 ↑\\tRouge-L ↑\")\n",
    "print(f\"{average_rouge['ROUGE-1_F1']:.2f}\\t{average_rouge['ROUGE-2_F1']:.2f}\\t{average_rouge['ROUGE-L_F1']:.2f}\")\n"
   ]
  },
  {
   "cell_type": "markdown",
   "id": "23c1d0f6-eb9d-4b32-b02c-f08f9c085501",
   "metadata": {},
   "source": [
    "# Bart Abstractive Summarization"
   ]
  },
  {
   "cell_type": "code",
   "execution_count": 8,
   "id": "e16b4718-a90c-4655-80ce-c819abee5837",
   "metadata": {},
   "outputs": [
    {
     "name": "stdout",
     "output_type": "stream",
     "text": [
      "                                               Title  \\\n",
      "0  Powell’s Fed Appears Headed for Another Collis...   \n",
      "1  A Ride-Hailing Start-Up in Washington Tries to...   \n",
      "2  Amazon Disregarded Internal Warnings on Injuri...   \n",
      "3  Automakers Thrived in the Pandemic. Many Are N...   \n",
      "4  An Epidemic of Vicious School Brawls, Fueled b...   \n",
      "\n",
      "                                             Content  \\\n",
      "0  trumptransition advertisement rates may not co...   \n",
      "1  a company called empower is trying to take on ...   \n",
      "2   by a staff report by the senate labor committ...   \n",
      "3   by changing technology, political turmoil and...   \n",
      "4  undefined this is an increasingly familiar sce...   \n",
      "\n",
      "                                 Abstractive_Summary  \n",
      "0  trumptransition advertisement rates may not co...  \n",
      "1  Ride-hailing start-upempowerhas become a serio...  \n",
      "2  A report by the senate labor committee, led by...  \n",
      "3  Nissan, the japanese automaker, is laying off ...  \n",
      "4  Fights like these reflect a troubling national...  \n"
     ]
    }
   ],
   "source": [
    "import torch\n",
    "from transformers import BartTokenizer, BartForConditionalGeneration\n",
    "import pandas as pd\n",
    "\n",
    "# Load BART tokenizer and model\n",
    "device = 'cuda' if torch.cuda.is_available() else 'cpu'\n",
    "tokenizer = BartTokenizer.from_pretrained('facebook/bart-large-cnn')\n",
    "model = BartForConditionalGeneration.from_pretrained('facebook/bart-large-cnn').to(device)\n",
    "\n",
    "# Function to generate abstractive summaries\n",
    "def generate_abstractive_summary(text, max_length=130, min_length=30, num_beams=4):\n",
    "    if not isinstance(text, str) or not text.strip():  # Skip empty content\n",
    "        return \"\"\n",
    "    inputs = tokenizer(text, return_tensors='pt', max_length=1024, truncation=True).to(device)\n",
    "    summary_ids = model.generate(\n",
    "        inputs['input_ids'], \n",
    "        max_length=max_length, \n",
    "        min_length=min_length, \n",
    "        num_beams=num_beams,\n",
    "        length_penalty=2.0,\n",
    "        early_stopping=True\n",
    "    )\n",
    "    summary = tokenizer.decode(summary_ids[0], skip_special_tokens=True)\n",
    "    return summary\n",
    "\n",
    "# Apply summarization to each article's content\n",
    "df['Abstractive_Summary'] = df['Content'].apply(lambda x: generate_abstractive_summary(x))\n",
    "\n",
    "# Save the results to a CSV file\n",
    "df.to_csv('bart_summarized_articles.csv', index=False)\n",
    "\n",
    "# Display the first few rows\n",
    "print(df[['Title', 'Content', 'Abstractive_Summary']].head())\n"
   ]
  },
  {
   "cell_type": "code",
   "execution_count": 9,
   "id": "60da5761-8c77-4ad1-8124-5035125db758",
   "metadata": {},
   "outputs": [
    {
     "name": "stdout",
     "output_type": "stream",
     "text": [
      "Model Performance\n",
      "The table below displays the model's performance for different seeds.\n",
      "Rouge-1 ↑\tRouge-2 ↑\tRouge-L ↑\n",
      "0.27\t0.19\t0.27\n"
     ]
    }
   ],
   "source": [
    "from rouge import Rouge\n",
    "import pandas as pd\n",
    "\n",
    "# Initialize the ROUGE scorer\n",
    "rouge = Rouge()\n",
    "\n",
    "# Function to calculate ROUGE scores\n",
    "def calculate_rouge_scores(original, summary):\n",
    "    if not summary.strip():  # Skip empty summaries\n",
    "        return None\n",
    "    \n",
    "    scores = rouge.get_scores(summary, original)[0]\n",
    "    return {\n",
    "        \"ROUGE-1_F1\": scores[\"rouge-1\"][\"f\"],\n",
    "        \"ROUGE-2_F1\": scores[\"rouge-2\"][\"f\"],\n",
    "        \"ROUGE-L_F1\": scores[\"rouge-l\"][\"f\"],\n",
    "    }\n",
    "\n",
    "# Calculate ROUGE scores for each article\n",
    "rouge_scores = df.apply(lambda row: calculate_rouge_scores(row[\"Content\"], row[\"Abstractive_Summary\"]), axis=1)\n",
    "\n",
    "# Filter out rows where the ROUGE score is None (due to empty summaries)\n",
    "rouge_scores = rouge_scores.dropna()\n",
    "\n",
    "# Convert the list of ROUGE scores dictionaries into a DataFrame\n",
    "rouge_df = pd.DataFrame(list(rouge_scores))\n",
    "\n",
    "# Calculate the average ROUGE scores across all articles\n",
    "average_rouge = rouge_df.mean()\n",
    "\n",
    "# Print the average ROUGE scores\n",
    "print(\"Model Performance\")\n",
    "print(\"The table below displays the model's performance for different seeds.\")\n",
    "print(\"Rouge-1 ↑\\tRouge-2 ↑\\tRouge-L ↑\")\n",
    "print(f\"{average_rouge['ROUGE-1_F1']:.2f}\\t{average_rouge['ROUGE-2_F1']:.2f}\\t{average_rouge['ROUGE-L_F1']:.2f}\")\n"
   ]
  },
  {
   "cell_type": "markdown",
   "id": "ea3e7ccc-1f51-4371-9870-91fa9429e682",
   "metadata": {},
   "source": [
    "# Combining Bart and Bertsum summarization "
   ]
  },
  {
   "cell_type": "code",
   "execution_count": 12,
   "id": "bf3b57fb-cd6e-4427-b106-d0f6518ce083",
   "metadata": {},
   "outputs": [
    {
     "name": "stdout",
     "output_type": "stream",
     "text": [
      "                                               Title  \\\n",
      "0  Powell’s Fed Appears Headed for Another Collis...   \n",
      "1  A Ride-Hailing Start-Up in Washington Tries to...   \n",
      "2  Amazon Disregarded Internal Warnings on Injuri...   \n",
      "3  Automakers Thrived in the Pandemic. Many Are N...   \n",
      "4  An Epidemic of Vicious School Brawls, Fueled b...   \n",
      "\n",
      "                                             Content  \\\n",
      "0  trumptransition advertisement rates may not co...   \n",
      "1  a company called empower is trying to take on ...   \n",
      "2   by a staff report by the senate labor committ...   \n",
      "3   by changing technology, political turmoil and...   \n",
      "4  undefined this is an increasingly familiar sce...   \n",
      "\n",
      "                                    Combined_Summary  \n",
      "0  trumptransition advertisement rates may not co...  \n",
      "1  a company called empower is trying to take on ...  \n",
      "2  Staff report by the senate labor committee, le...  \n",
      "3  A few years ago, automakers were celebrating r...  \n",
      "4  Schools are struggling to remove phones, which...  \n"
     ]
    }
   ],
   "source": [
    "from summarizer import Summarizer\n",
    "import torch\n",
    "from transformers import BartTokenizer, BartForConditionalGeneration\n",
    "import pandas as pd\n",
    "\n",
    "# Load BERT Summarizer model\n",
    "bert_model = Summarizer()\n",
    "\n",
    "# Load BART tokenizer and model\n",
    "device = 'cuda' if torch.cuda.is_available() else 'cpu'\n",
    "tokenizer = BartTokenizer.from_pretrained('facebook/bart-large-cnn')\n",
    "bart_model = BartForConditionalGeneration.from_pretrained('facebook/bart-large-cnn').to(device)\n",
    "\n",
    "# Function for BERT extractive summarization\n",
    "def generate_extractive_summary(text, ratio=0.2):\n",
    "    if not isinstance(text, str) or not text.strip():  # Skip empty content\n",
    "        return \"\"\n",
    "    return bert_model(text, ratio=ratio)\n",
    "\n",
    "# Function for BART abstractive summarization\n",
    "def generate_abstractive_summary(text, max_length=130, min_length=30, num_beams=4):\n",
    "    if not isinstance(text, str) or not text.strip():  # Skip empty content\n",
    "        return \"\"\n",
    "    inputs = tokenizer(text, return_tensors='pt', max_length=1024, truncation=True).to(device)\n",
    "    summary_ids = bart_model.generate(\n",
    "        inputs['input_ids'], \n",
    "        max_length=max_length, \n",
    "        min_length=min_length, \n",
    "        num_beams=num_beams,\n",
    "        length_penalty=2.0,\n",
    "        early_stopping=True\n",
    "    )\n",
    "    summary = tokenizer.decode(summary_ids[0], skip_special_tokens=True)\n",
    "    return summary\n",
    "\n",
    "# Combined summarization pipeline\n",
    "def generate_combined_summary(content, bert_ratio=0.2, bart_max_length=130, bart_min_length=30, bart_num_beams=4):\n",
    "    # Step 1: Generate an extractive summary using BERT\n",
    "    extractive_summary = generate_extractive_summary(content, ratio=bert_ratio)\n",
    "    \n",
    "    # Step 2: Generate an abstractive summary from the extractive summary using BART\n",
    "    combined_summary = generate_abstractive_summary(extractive_summary, \n",
    "                                                    max_length=bart_max_length, \n",
    "                                                    min_length=bart_min_length, \n",
    "                                                    num_beams=bart_num_beams)\n",
    "    return combined_summary\n",
    "\n",
    "# Apply the combined summarization pipeline to each article's content\n",
    "df['Combined_Summary'] = df['Content'].apply(lambda x: generate_combined_summary(x))\n",
    "\n",
    "# Save the results to a new CSV file\n",
    "df.to_csv('combined_summarized_articles.csv', index=False)\n",
    "\n",
    "# Display the first few rows\n",
    "print(df[['Title', 'Content', 'Combined_Summary']].head())\n"
   ]
  },
  {
   "cell_type": "code",
   "execution_count": 13,
   "id": "48ef80ff-0626-49f9-8f1c-74a003503d2b",
   "metadata": {},
   "outputs": [
    {
     "name": "stdout",
     "output_type": "stream",
     "text": [
      "Model Performance for Combined Summarization\n",
      "The table below displays the model's performance for different seeds.\n",
      "Rouge-1 ↑\tRouge-2 ↑\tRouge-L ↑\n",
      "0.23\t0.16\t0.23\n"
     ]
    }
   ],
   "source": [
    "from rouge import Rouge\n",
    "import pandas as pd\n",
    "\n",
    "# Initialize the ROUGE scorer\n",
    "rouge = Rouge()\n",
    "\n",
    "# Function to calculate ROUGE scores\n",
    "def calculate_rouge_scores(original, summary):\n",
    "    if not isinstance(summary, str) or not summary.strip():  # Skip empty summaries\n",
    "        return None\n",
    "    \n",
    "    scores = rouge.get_scores(summary, original)[0]\n",
    "    return {\n",
    "        \"ROUGE-1_F1\": scores[\"rouge-1\"][\"f\"],\n",
    "        \"ROUGE-2_F1\": scores[\"rouge-2\"][\"f\"],\n",
    "        \"ROUGE-L_F1\": scores[\"rouge-l\"][\"f\"],\n",
    "    }\n",
    "\n",
    "# Apply the ROUGE scoring function to each row (skip rows with empty Combined_Summary)\n",
    "rouge_scores = df.apply(lambda row: calculate_rouge_scores(row[\"Content\"], row[\"Combined_Summary\"]), axis=1)\n",
    "\n",
    "# Filter out rows where the ROUGE score is None (due to empty summaries)\n",
    "rouge_scores = rouge_scores.dropna()\n",
    "\n",
    "# Convert the list of ROUGE scores dictionaries into a DataFrame\n",
    "rouge_df = pd.DataFrame(list(rouge_scores))\n",
    "\n",
    "# Calculate the average ROUGE scores across all articles\n",
    "average_rouge = rouge_df.mean()\n",
    "\n",
    "# Print the average ROUGE scores in the desired format\n",
    "print(\"Model Performance for Combined Summarization\")\n",
    "print(\"The table below displays the model's performance for different seeds.\")\n",
    "print(\"Rouge-1 ↑\\tRouge-2 ↑\\tRouge-L ↑\")\n",
    "print(f\"{average_rouge['ROUGE-1_F1']:.2f}\\t{average_rouge['ROUGE-2_F1']:.2f}\\t{average_rouge['ROUGE-L_F1']:.2f}\")\n"
   ]
  },
  {
   "cell_type": "markdown",
   "id": "439b0299-92b7-4b7d-b8ba-c7f3d1f9e18e",
   "metadata": {},
   "source": [
    "# Sentiment analysis "
   ]
  },
  {
   "cell_type": "code",
   "execution_count": 17,
   "id": "58fc72c5-a243-4362-b75a-64f8f85e5af5",
   "metadata": {},
   "outputs": [
    {
     "name": "stderr",
     "output_type": "stream",
     "text": [
      "No model was supplied, defaulted to distilbert/distilbert-base-uncased-finetuned-sst-2-english and revision 714eb0f (https://huggingface.co/distilbert/distilbert-base-uncased-finetuned-sst-2-english).\n",
      "Using a pipeline without specifying a model name and revision in production is not recommended.\n",
      "Device set to use cuda:0\n"
     ]
    },
    {
     "name": "stdout",
     "output_type": "stream",
     "text": [
      "                                               Title  \\\n",
      "0  Powell’s Fed Appears Headed for Another Collis...   \n",
      "1  A Ride-Hailing Start-Up in Washington Tries to...   \n",
      "2  Amazon Disregarded Internal Warnings on Injuri...   \n",
      "3  Automakers Thrived in the Pandemic. Many Are N...   \n",
      "4  An Epidemic of Vicious School Brawls, Fueled b...   \n",
      "\n",
      "                                    Combined_Summary Sentiment  \n",
      "0  trumptransition advertisement rates may not co...  NEGATIVE  \n",
      "1  a company called empower is trying to take on ...  POSITIVE  \n",
      "2  Staff report by the senate labor committee, le...  NEGATIVE  \n",
      "3  A few years ago, automakers were celebrating r...  NEGATIVE  \n",
      "4  Schools are struggling to remove phones, which...  NEGATIVE  \n"
     ]
    }
   ],
   "source": [
    "from transformers import pipeline\n",
    "\n",
    "# Load sentiment-analysis pipeline\n",
    "sentiment_analyzer = pipeline(\"sentiment-analysis\")\n",
    "\n",
    "# Function to analyze sentiment of the summary or text\n",
    "def get_sentiment(text):\n",
    "    if not isinstance(text, str) or not text.strip():  # Skip empty content\n",
    "        return None\n",
    "    sentiment = sentiment_analyzer(text)\n",
    "    return sentiment[0]['label']  # Returns the label ('POSITIVE', 'NEGATIVE', 'NEUTRAL')\n",
    "\n",
    "# Add sentiment analysis to your summaries\n",
    "df['Sentiment'] = df['Combined_Summary'].apply(lambda x: get_sentiment(x))\n",
    "\n",
    "# Display the results\n",
    "print(df[['Title', 'Combined_Summary', 'Sentiment']].head())\n"
   ]
  },
  {
   "cell_type": "code",
   "execution_count": 19,
   "id": "e4f534e6-ce1d-42d7-a40b-259c2399d595",
   "metadata": {},
   "outputs": [
    {
     "name": "stdout",
     "output_type": "stream",
     "text": [
      "                                               Title  \\\n",
      "0  Powell’s Fed Appears Headed for Another Collis...   \n",
      "1  A Ride-Hailing Start-Up in Washington Tries to...   \n",
      "2  Amazon Disregarded Internal Warnings on Injuri...   \n",
      "3  Automakers Thrived in the Pandemic. Many Are N...   \n",
      "4  An Epidemic of Vicious School Brawls, Fueled b...   \n",
      "\n",
      "                                    Combined_Summary Sentiment  \n",
      "0  trumptransition advertisement rates may not co...  NEGATIVE  \n",
      "1  a company called empower is trying to take on ...  POSITIVE  \n",
      "2  Staff report by the senate labor committee, le...  NEGATIVE  \n",
      "3  A few years ago, automakers were celebrating r...  NEGATIVE  \n",
      "4  Schools are struggling to remove phones, which...  NEGATIVE  \n"
     ]
    }
   ],
   "source": [
    "df.to_csv('final_summarized_articles.csv', index=False)\n",
    "print(df[['Title', 'Combined_Summary', 'Sentiment']].head())"
   ]
  }
 ],
 "metadata": {
  "kernelspec": {
   "display_name": "Python (myenv)",
   "language": "python",
   "name": "myenv"
  },
  "language_info": {
   "codemirror_mode": {
    "name": "ipython",
    "version": 3
   },
   "file_extension": ".py",
   "mimetype": "text/x-python",
   "name": "python",
   "nbconvert_exporter": "python",
   "pygments_lexer": "ipython3",
   "version": "3.12.3"
  }
 },
 "nbformat": 4,
 "nbformat_minor": 5
}
